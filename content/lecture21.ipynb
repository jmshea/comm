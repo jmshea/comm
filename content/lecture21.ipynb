{
 "cells": [
  {
   "cell_type": "code",
   "execution_count": 1,
   "id": "2962429d-3b94-4ed9-ad79-2b8cecbad6d3",
   "metadata": {},
   "outputs": [],
   "source": [
    "import numpy as np\n",
    "import matplotlib.pyplot as plt\n",
    "\n",
    "from numpy.fft import fft, ifft, fftshift, fftfreq\n",
    "from numpy.linalg import norm"
   ]
  },
  {
   "cell_type": "code",
   "execution_count": 2,
   "id": "b33ed73b-0a17-4f68-aeb8-fe03371db143",
   "metadata": {},
   "outputs": [],
   "source": [
    "def sample(sig_in, td, ts):\n",
    "  '''Sample the incoming signal and return a discrete representation\n",
    "     of the impulse-sampled signal and the samples'''\n",
    "  \n",
    "  assert ts/td % 1 ==0, 'ts must be an integer multiple of td'\n",
    "    \n",
    "  nfac = int(ts/td)\n",
    "\n",
    "  samples = sig_in[::nfac]\n",
    "\n",
    "  s_out =np.zeros( len(sig_in))\n",
    "  s_out[::nfac]=samples\n",
    "\n",
    "\n",
    "  return s_out, samples"
   ]
  },
  {
   "cell_type": "code",
   "execution_count": null,
   "id": "aa6ba3c5-2146-4c33-a9e6-0b1d15d6ec2f",
   "metadata": {},
   "outputs": [],
   "source": []
  }
 ],
 "metadata": {
  "kernelspec": {
   "display_name": "Python 3 (ipykernel)",
   "language": "python",
   "name": "python3"
  },
  "language_info": {
   "codemirror_mode": {
    "name": "ipython",
    "version": 3
   },
   "file_extension": ".py",
   "mimetype": "text/x-python",
   "name": "python",
   "nbconvert_exporter": "python",
   "pygments_lexer": "ipython3",
   "version": "3.9.16"
  }
 },
 "nbformat": 4,
 "nbformat_minor": 5
}
