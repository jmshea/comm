{
 "cells": [
  {
   "cell_type": "markdown",
   "id": "0c432fe1-4573-4bcd-9469-ec8890af2964",
   "metadata": {},
   "source": [
    "# Calculating and plotting error probabilities"
   ]
  },
  {
   "cell_type": "code",
   "execution_count": null,
   "id": "7f77d6dd-9bc6-4382-b5fa-c1d199d47d79",
   "metadata": {},
   "outputs": [],
   "source": [
    "import numpy as np\n",
    "import matplotlib.pyplot as plt\n",
    "from scipy.stats import norm\n",
    "\n",
    "def q(x):\n",
    "    return norm.sf(x)\n",
    "    \n",
    "def qinv(p):\n",
    "    return norm.isf(p)"
   ]
  },
  {
   "cell_type": "markdown",
   "id": "504f5800-4a61-4f25-bd14-479131254c6c",
   "metadata": {},
   "source": [
    "## Start with some examples of calculating error probs"
   ]
  },
  {
   "cell_type": "markdown",
   "id": "4f920234-66f1-4502-95ca-5de9390d2e25",
   "metadata": {},
   "source": [
    "If $E_b/N_0 = 6$ dB, what is the probability of error for BPSK? "
   ]
  },
  {
   "cell_type": "markdown",
   "id": "c0569d9a-4bbe-4783-9abc-47a9f15e602d",
   "metadata": {},
   "source": [
    "Create a function that calculates the error probability:"
   ]
  },
  {
   "cell_type": "code",
   "execution_count": null,
   "id": "1429c8b1-8cea-4ee6-91a3-d13de6db6aba",
   "metadata": {},
   "outputs": [],
   "source": [
    "def pb_bpsk(ebno_db):\n",
    "\n",
    "    \n",
    "    return  True # Fix me\n",
    "    "
   ]
  },
  {
   "cell_type": "code",
   "execution_count": null,
   "id": "4c348529-b81f-4257-84c1-bb956d921101",
   "metadata": {},
   "outputs": [],
   "source": []
  },
  {
   "cell_type": "markdown",
   "id": "d5552ed0-05f1-4df2-81e2-cca4fe6bf2fb",
   "metadata": {},
   "source": [
    "If $E_b/N_0 = 10$ dB, what is the probability of error for BPSK? "
   ]
  },
  {
   "cell_type": "code",
   "execution_count": null,
   "id": "606241fe-27a4-4a1b-a2de-c70c136b4cdd",
   "metadata": {},
   "outputs": [],
   "source": []
  },
  {
   "cell_type": "markdown",
   "id": "f30325ad-fd6e-4b10-94d6-0ff92d4240c0",
   "metadata": {},
   "source": [
    "If we want an error probability of $10^{-5}$, what is the lowest possible value of $E_b/N_0$?"
   ]
  },
  {
   "cell_type": "code",
   "execution_count": null,
   "id": "ef990d4a-d9a5-496e-bf74-e7cb764f52c8",
   "metadata": {},
   "outputs": [],
   "source": []
  },
  {
   "cell_type": "code",
   "execution_count": null,
   "id": "ea52664c-2f36-4c1e-a69f-aa103e026888",
   "metadata": {},
   "outputs": [],
   "source": []
  },
  {
   "cell_type": "markdown",
   "id": "0bf16b4e-abee-4b0f-ad05-8d7f17478016",
   "metadata": {},
   "source": [
    "## Plotting error probs"
   ]
  },
  {
   "cell_type": "code",
   "execution_count": null,
   "id": "f445b56e-69f5-4411-a1bf-a2548db86540",
   "metadata": {},
   "outputs": [],
   "source": []
  },
  {
   "cell_type": "code",
   "execution_count": null,
   "id": "79d60f41-b3d5-4b22-95e4-f7267195b401",
   "metadata": {},
   "outputs": [],
   "source": []
  },
  {
   "cell_type": "code",
   "execution_count": null,
   "id": "556b48ee-9f5b-4dfd-aa4c-2ec1db36f645",
   "metadata": {},
   "outputs": [],
   "source": []
  },
  {
   "cell_type": "markdown",
   "id": "7b5969cf-0c36-4d75-9288-fd61edd50b25",
   "metadata": {},
   "source": [
    "## Compare the Performance of Binary Antipodal and Binary Orthogonal"
   ]
  },
  {
   "cell_type": "code",
   "execution_count": null,
   "id": "88e6628b-9c66-4e5a-b07a-aa80167d1da5",
   "metadata": {},
   "outputs": [],
   "source": []
  },
  {
   "cell_type": "code",
   "execution_count": null,
   "id": "113d0989-433c-4de9-9b7f-9d1c5e3bfe59",
   "metadata": {},
   "outputs": [],
   "source": []
  },
  {
   "cell_type": "code",
   "execution_count": null,
   "id": "862b75d4-9fe1-439c-8f71-8ddf09e440b4",
   "metadata": {},
   "outputs": [],
   "source": []
  }
 ],
 "metadata": {
  "kernelspec": {
   "display_name": "Python 3 (ipykernel)",
   "language": "python",
   "name": "python3"
  },
  "language_info": {
   "codemirror_mode": {
    "name": "ipython",
    "version": 3
   },
   "file_extension": ".py",
   "mimetype": "text/x-python",
   "name": "python",
   "nbconvert_exporter": "python",
   "pygments_lexer": "ipython3",
   "version": "3.9.16"
  }
 },
 "nbformat": 4,
 "nbformat_minor": 5
}
