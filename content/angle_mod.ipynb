{
 "cells": [
  {
   "cell_type": "markdown",
   "metadata": {},
   "source": [
    "# Angle Modulation Demos"
   ]
  },
  {
   "cell_type": "code",
   "execution_count": 1,
   "metadata": {
    "collapsed": false,
    "jupyter": {
     "outputs_hidden": false
    }
   },
   "outputs": [],
   "source": [
    "import numpy as np\n",
    "import scipy as sp\n",
    "import scipy.signal\n",
    "\n",
    "from ipywidgets import widgets, interact, fixed\n",
    "\n",
    "import matplotlib.pyplot as plt\n",
    "%matplotlib inline\n",
    "\n"
   ]
  },
  {
   "cell_type": "markdown",
   "metadata": {},
   "source": [
    "## Triangular Message Signal"
   ]
  },
  {
   "cell_type": "code",
   "execution_count": 2,
   "metadata": {
    "collapsed": false,
    "jupyter": {
     "outputs_hidden": false
    }
   },
   "outputs": [
    {
     "data": {
      "image/png": "[encoded data removed]",
      "text/plain": [
       "<Figure size 640x480 with 1 Axes>"
      ]
     },
     "metadata": {},
     "output_type": "display_data"
    }
   ],
   "source": [
    "# Triangle wave generation (scipy only seems to have sawtooth)\n",
    "def triangle_wave(t, amplitude, period):\n",
    "    m = [-2*(np.abs(-(np.fmod(t[i]*(amplitude)/period, amplitude)-amplitude/2)))+amplitude/2 for i in range(len(t))]\n",
    "    m = np.array(m)\n",
    "    return m;\n",
    "\n",
    "tri_amplitude = 2\n",
    "tri_period = 2e-4\n",
    "\n",
    "max_time = 1*tri_period\n",
    "t_steps = 20000\n",
    "t = np.linspace(0,max_time,t_steps)\n",
    "\n",
    "m = triangle_wave(t, tri_amplitude, tri_period)\n",
    "\n",
    "# Using gradient may smooth this rather than a first order approximation\n",
    "m_dot = np.diff(m)/(max_time/t_steps)\n",
    "\n",
    "# Convert carrier frequency to radians/sec\n",
    "wc = 100e6 * 2*np.pi\n",
    "\n",
    "kP = 10*np.pi\n",
    "kF = 2*np.pi*10**5\n",
    "\n",
    "temp_wct = wc*t\n",
    "temp_tpm = kP*m\n",
    "temp_tpf = kF*np.cumsum(m)\n",
    "\n",
    "theta_PM = wc*t + kP*m\n",
    "theta_FM = wc*t + kF*np.cumsum(m)\n",
    "\n",
    "#plt.plot(t, theta_PM, '.k')\n",
    "#plt.plot(t, temp_wct, '.r')\n",
    "#plt.plot(t, temp_tpm, '.b')\n",
    "\n",
    "#plt.plot(t, theta_FM, '.k', markersize=12)\n",
    "#plt.plot(t, temp_wct, '.r', alpha=0.7)\n",
    "#plt.plot(t, temp_tpf, '.b', alpha=0.7)\n",
    "\n",
    "A = 1\n",
    "sP = A * np.cos(theta_PM)\n",
    "sF = A * np.cos(theta_FM)\n",
    "plt.plot(t*1e6,m);\n"
   ]
  },
  {
   "cell_type": "code",
   "execution_count": 3,
   "metadata": {
    "collapsed": false,
    "jupyter": {
     "outputs_hidden": false
    }
   },
   "outputs": [
    {
     "data": {
      "application/vnd.jupyter.widget-view+json": {
       "model_id": "860c5dcce94848d6bfffed5822ee376f",
       "version_major": 2,
       "version_minor": 0
      },
      "text/plain": [
       "interactive(children=(FloatSlider(value=0.0, description='kP', max=50.26548245743669, step=1.5707963267948966)…"
      ]
     },
     "metadata": {},
     "output_type": "display_data"
    }
   ],
   "source": [
    "# Triangle wave generation (scipy only seems to have sawtooth)\n",
    "def triangle_wave(t, amplitude, period):\n",
    "    m = [-2*(np.abs(-(np.fmod(t[i]*(amplitude)/period, amplitude)-amplitude/2)))+amplitude/2 for i in range(len(t))]\n",
    "    m = np.array(m)\n",
    "    return m;\n",
    "\n",
    "def plot_example_0501(kP):\n",
    "    tri_amplitude = 1\n",
    "    tri_period = 2e-4\n",
    "\n",
    "    max_time = 1*tri_period\n",
    "    t_steps = 20000\n",
    "    t = np.linspace(0,max_time,t_steps)\n",
    "\n",
    "    m = triangle_wave(t, tri_amplitude, tri_period)\n",
    "\n",
    "    # Using gradient may smooth this rather than a first order approximation\n",
    "    m_dot = np.diff(m)/(max_time/t_steps)\n",
    "\n",
    "    #plt.plot(t,m)\n",
    "    #plt.ylim(-1.5,1.5)\n",
    "\n",
    "    #plt.plot(t[0:len(m_dot)], m_dot/2e4)\n",
    "    #print(m_dot[0])\n",
    "\n",
    "    # Convert carrier frequency to radians/sec\n",
    "    #wc = 100e6 * 2*np.pi\n",
    "    wc = 1e5 * 2*np.pi\n",
    "\n",
    "    #kP = 10*np.pi\n",
    "    #kP = 5*np.pi\n",
    "    #kF = 2e5*np.pi\n",
    "    #kF = 2e-3*np.pi\n",
    "\n",
    "    temp_wct = wc*t\n",
    "    temp_tpm = kP*m\n",
    "    temp_tpf = kF*np.cumsum(m)\n",
    "\n",
    "    theta_PM = wc*t + kP*m\n",
    "    theta_FM = wc*t + kF*np.cumsum(m)    \n",
    "\n",
    "    A = 1\n",
    "    sP = A * np.cos(theta_PM)\n",
    "    sF = A * np.cos(theta_FM)\n",
    "\n",
    "    # figsize = (width, height)\n",
    "    fig = plt.figure(figsize=(20,8))\n",
    "    ax1 = fig.add_subplot(1,1,1)\n",
    "\n",
    "    ax1.plot(1e6*t, sP, '-k')\n",
    "    ax1.plot(1e6*t[0:len(m)], m*(np.max(sF)/np.max(m)), '.b', markersize=1)\n",
    "    ax1.plot(1e6*t[0:len(m_dot)], m_dot*(np.max(sP)/np.max(m_dot)), '.r', markersize=1)\n",
    "    ax1.set_ylim((-1.2*np.max(sP), 1.2*np.max(sP)))\n",
    "    ax1.set_title(\"Phase Modulation\");\n",
    "\n",
    "       \n",
    "        \n",
    "    \n",
    "interact(\n",
    "    plot_example_0501,\n",
    "    kP = widgets.FloatSlider(min=0,max=16*np.pi, step=np.pi/2, value=0),\n",
    ");"
   ]
  },
  {
   "cell_type": "code",
   "execution_count": 7,
   "metadata": {
    "collapsed": false,
    "jupyter": {
     "outputs_hidden": false
    }
   },
   "outputs": [
    {
     "data": {
      "application/vnd.jupyter.widget-view+json": {
       "model_id": "c447029d64f04e52b660adb1b0b9f51e",
       "version_major": 2,
       "version_minor": 0
      },
      "text/plain": [
       "interactive(children=(FloatSlider(value=0.0, description='kP', max=50.26548245743669, step=1.5707963267948966)…"
      ]
     },
     "metadata": {},
     "output_type": "display_data"
    }
   ],
   "source": [
    "\n",
    "\n",
    "def plot_example_0501b(kP,kF):\n",
    "    tri_amplitude = 1\n",
    "    tri_period = 2e-4\n",
    "\n",
    "    kF=kF*1e-3\n",
    "    max_time = 1*tri_period\n",
    "    t_steps = 20000\n",
    "    t = np.linspace(0,max_time,t_steps)\n",
    "\n",
    "    m = triangle_wave(t, tri_amplitude, tri_period)\n",
    "\n",
    "    # Using gradient may smooth this rather than a first order approximation\n",
    "    m_dot = np.diff(m)/(max_time/t_steps)\n",
    "\n",
    "    #plt.plot(t,m)\n",
    "    #plt.ylim(-1.5,1.5)\n",
    "\n",
    "    #plt.plot(t[0:len(m_dot)], m_dot/2e4)\n",
    "    #print(m_dot[0])\n",
    "\n",
    "    # Convert carrier frequency to radians/sec\n",
    "    #wc = 100e6 * 2*np.pi\n",
    "    wc = 1e5 * 2*np.pi\n",
    "\n",
    "    #kP = 10*np.pi\n",
    "    #kP = 5*np.pi\n",
    "    #kF = 2e5*np.pi\n",
    "    #kF = 2e-3*np.pi\n",
    "\n",
    "    temp_wct = wc*t\n",
    "    temp_tpm = kP*m\n",
    "    temp_tpf = kF*np.cumsum(m)\n",
    "\n",
    "    theta_PM = wc*t + kP*m\n",
    "    theta_FM = wc*t + kF*np.cumsum(m)\n",
    "\n",
    "    plot_signals = True\n",
    "    \n",
    "    if( not plot_signals ):\n",
    "        # PM Instantaneous Phase\n",
    "        #plt.plot(t, theta_PM, '.k')\n",
    "        #plt.plot(t, temp_wct, '.r')\n",
    "        #plt.plot(t, temp_tpm, '.b')\n",
    "\n",
    "        # FM Instantaneous Phase\n",
    "        plt.plot(t, theta_FM, '.k', markersize=12)\n",
    "        plt.plot(t, temp_wct, '.r', alpha=0.7)\n",
    "        plt.plot(t, temp_tpf, '.b', alpha=0.7)\n",
    "        \n",
    "    else:\n",
    "        \n",
    "        A = 1\n",
    "        sP = A * np.cos(theta_PM)\n",
    "        sF = A * np.cos(theta_FM)\n",
    "        \n",
    "        # figsize = (width, height)\n",
    "        fig = plt.figure(figsize=(20,8))\n",
    "        ax1 = fig.add_subplot(2,1,1)\n",
    "        ax2 = fig.add_subplot(2,1,2)\n",
    "        \n",
    "        ax1.plot(t, sP, '-k')\n",
    "        ax1.plot(t[0:len(m)], m*(np.max(sF)/np.max(m)), '.b', markersize=1)\n",
    "        ax1.plot(t[0:len(m_dot)], m_dot*(np.max(sP)/np.max(m_dot)), '.r', markersize=1)\n",
    "        ax1.set_ylim((-1.2*np.max(sP), 1.2*np.max(sP)))\n",
    "        ax1.set_title(\"Phase Modulation\")\n",
    "        \n",
    "        ax2.plot(t, sF, '-k')\n",
    "        ax2.plot(t[0:len(m)], m*(np.max(sF)/np.max(m)), '.b', markersize=1)\n",
    "        ax2.plot(t[0:len(m_dot)], m_dot*(np.max(sF)/np.max(m_dot)), '.r', markersize=1)\n",
    "        ax2.set_ylim((-1.2*np.max(sF), 1.2*np.max(sF)))\n",
    "        ax2.set_title(\"Frequency Modulation\")\n",
    "        \n",
    "    \n",
    "interact(\n",
    "    plot_example_0501b,\n",
    "    kP = widgets.FloatSlider(min=0,max=16*np.pi, step=np.pi/2, value=0),\n",
    "    kF = widgets.FloatSlider(min=0,max=4*np.pi, step=1e-1*np.pi, value=0, description='kF * 1e3')\n",
    ");"
   ]
  },
  {
   "cell_type": "code",
   "execution_count": 5,
   "metadata": {
    "collapsed": false,
    "jupyter": {
     "outputs_hidden": false
    }
   },
   "outputs": [
    {
     "data": {
      "application/vnd.jupyter.widget-view+json": {
       "model_id": "3717dd5469a34c5b87aaa2ac995413c9",
       "version_major": 2,
       "version_minor": 0
      },
      "text/plain": [
       "interactive(children=(FloatSlider(value=0.0, description='kP rad/V', max=3.141592653589793, step=0.31415926535…"
      ]
     },
     "metadata": {},
     "output_type": "display_data"
    }
   ],
   "source": [
    "def square_wave(t, amplitude, period):\n",
    "\n",
    "    m = amplitude*sp.signal.square(t*(2*np.pi/period))\n",
    "\n",
    "    # Using gradient may smooth this rather than a first order approximation\n",
    "    #m_dot = np.diff(m)/(max_time/t_steps)\n",
    "    \n",
    "    return m\n",
    "\n",
    "def plot_example_0502(kP, kF):\n",
    "    sq_amplitude = 1\n",
    "    sq_period = 2e-4\n",
    "\n",
    "    kF=kF*1e-4\n",
    "    max_time = 2*sq_period\n",
    "    t_steps = 20000\n",
    "    t = np.linspace(0,max_time,t_steps)\n",
    "\n",
    "    m = square_wave(t, sq_amplitude, sq_period)\n",
    "    print(np.where(m[0:-1] !=m[1:]))\n",
    "    m_dot = np.diff(m)/(max_time/t_steps)\n",
    "    #plt.plot(t,m)\n",
    "    #plt.plot(t[0:len(m_dot)],m_dot)\n",
    "    #plt.xlim(-sq_period/2, np.max(t)+sq_period/2)\n",
    "    #plt.ylim(-3,3)\n",
    "\n",
    "    wc = 1e5 * 2*np.pi\n",
    "\n",
    "    temp_wct = wc*t\n",
    "    temp_tpm = kP*m\n",
    "    temp_tpf = kF*np.cumsum(m)\n",
    "\n",
    "    theta_PM = wc*t + kP*m\n",
    "    theta_FM = wc*t + kF*np.cumsum(m)\n",
    "    \n",
    "\n",
    "        \n",
    "    A = 1\n",
    "    sP = A * np.cos(theta_PM)\n",
    "    sF = A * np.cos(theta_FM)\n",
    "\n",
    "    # figsize = (width, height)\n",
    "    fig = plt.figure(figsize=(20,8))\n",
    "    ax1 = fig.add_subplot(2,1,1)\n",
    "    ax2 = fig.add_subplot(2,1,2)\n",
    "\n",
    "    #ax1.plot(t, sP, '-k')\n",
    "    #ax1.plot(t[0:len(m_dot)], m_dot*(np.max(sP)/np.max(m_dot)), '.b', markersize=1)\n",
    "    #ax1.set_ylim((-1.2*np.max(sP), 1.2*np.max(sP)))\n",
    "    #ax1.set_title(\"Phase Modulation\")\n",
    "\n",
    "    #ax2.plot(t, sF, '-k')\n",
    "    #ax2.plot(t[0:len(m)], m*(np.max(sF)/np.max(m)), '.b', markersize=1)\n",
    "    #ax2.set_ylim((-1.2*np.max(sF), 1.2*np.max(sF)))\n",
    "    #ax2.set_title(\"Frequency Modulation\")\n",
    "\n",
    "    ax1.plot(t, sP, '-k')\n",
    "    ax1.plot(t[0:len(m)], m*(np.max(sF)/np.max(m)), '.b', markersize=1)\n",
    "    ax1.plot(t[0:len(m_dot)], m_dot*(np.max(sP)/np.max(m_dot)), '.r', markersize=1)\n",
    "    ax1.vlines(t[np.where( m[1:] > m[0:-1])], 0, 2, colors='r',linewidth=2)\n",
    "    ax1.vlines(t[np.where( m[1:] < m[0:-1])], -2, 0, colors='r',linewidth=2)\n",
    "    ax1.set_ylim((-1.2*np.max(sP), 1.2*np.max(sP)))\n",
    "    ax1.set_title(\"Phase Modulation\")\n",
    "\n",
    "    ax2.plot(t, sF, '-k')\n",
    "    ax2.plot(t[0:len(m)], m*(np.max(sF)/np.max(m)), '.b', markersize=1)\n",
    "    ax2.plot(t[0:len(m_dot)], m_dot*(np.max(sF)/np.max(m_dot)), '.r', markersize=1)\n",
    "    ax2.vlines(t[np.where( m[1:] > m[0:-1])], 0, 2, colors='r',linewidth=2)\n",
    "    ax2.vlines(t[np.where( m[1:] < m[0:-1])], -2, 0, colors='r',linewidth=2)\n",
    "\n",
    "\n",
    "\n",
    "    ax2.set_ylim((-1.2*np.max(sF), 1.2*np.max(sF)))\n",
    "    ax2.set_title(\"Frequency Modulation\")\n",
    "    \n",
    "interact(\n",
    "    plot_example_0502,\n",
    "    kP = widgets.FloatSlider(min=0,max=np.pi, step=np.pi/10, value=0, description='kP rad/V'),\n",
    "    kF = widgets.FloatSlider(min=0,max=8*np.pi, step=0.1*np.pi, value=0, description='kF * 1e4 rad/s/V')\n",
    ");"
   ]
  },
  {
   "cell_type": "code",
   "execution_count": 6,
   "metadata": {
    "collapsed": false,
    "jupyter": {
     "outputs_hidden": false
    }
   },
   "outputs": [
    {
     "data": {
      "application/vnd.jupyter.widget-view+json": {
       "model_id": "d1c03e1933a844479e2302778b4ef69c",
       "version_major": 2,
       "version_minor": 0
      },
      "text/plain": [
       "interactive(children=(FloatSlider(value=0.0, description='kP', max=25.132741228718345, step=1.0471975511965976…"
      ]
     },
     "metadata": {},
     "output_type": "display_data"
    }
   ],
   "source": [
    "def transformed_sinusoid(t, amplitude, period):\n",
    "\n",
    "    m = amplitude*np.cos(t*(2*np.pi/period))\n",
    "\n",
    "    # Using gradient may smooth this rather than a first order approximation\n",
    "    #m_dot = np.diff(m)/(max_time/t_steps)\n",
    "    \n",
    "    return m\n",
    "\n",
    "def plot_example_extra(kP, kF):\n",
    "    sq_amplitude = 1\n",
    "    sq_period = 2e-4\n",
    "\n",
    "    max_time = 1*sq_period\n",
    "    t_steps = 20000\n",
    "    t = np.linspace(0,max_time,t_steps)\n",
    "\n",
    "    m = transformed_sinusoid(t, sq_amplitude, sq_period)\n",
    "    m_dot = np.diff(m)/(max_time/t_steps)\n",
    "    #plt.plot(t,m)\n",
    "    #plt.plot(t[0:len(m_dot)],m_dot)\n",
    "    #plt.xlim(-sq_period/2, np.max(t)+sq_period/2)\n",
    "    #plt.ylim(-3,3)\n",
    "\n",
    "    wc = 1e5 * 2*np.pi\n",
    "\n",
    "    temp_wct = wc*t\n",
    "    temp_tpm = kP*m\n",
    "    temp_tpf = kF*np.cumsum(m)\n",
    "\n",
    "    theta_PM = wc*t + kP*m\n",
    "    theta_FM = wc*t + kF*np.cumsum(m)\n",
    "    \n",
    "    plot_signals = True\n",
    "    \n",
    "    if( not plot_signals ):\n",
    "        # PM Instantaneous Phase\n",
    "        #plt.plot(t, theta_PM, '.k')\n",
    "        #plt.plot(t, temp_wct, '.r')\n",
    "        #plt.plot(t, temp_tpm, '.b')\n",
    "\n",
    "        # FM Instantaneous Phase\n",
    "        plt.plot(t, theta_FM, '.k', markersize=12)\n",
    "        plt.plot(t, temp_wct, '.r', alpha=0.7)\n",
    "        plt.plot(t, temp_tpf, '.b', alpha=0.7)\n",
    "        \n",
    "    else:\n",
    "        \n",
    "        A = 1\n",
    "        sP = A * np.cos(theta_PM)\n",
    "        sF = A * np.cos(theta_FM)\n",
    "        \n",
    "        # figsize = (width, height)\n",
    "        fig = plt.figure(figsize=(20,8))\n",
    "        ax1 = fig.add_subplot(2,1,1)\n",
    "        ax2 = fig.add_subplot(2,1,2)\n",
    "\n",
    "        #ax1.plot(t, sP, '-k')\n",
    "        #ax1.plot(t[0:len(m_dot)], m_dot*(np.max(sP)/np.max(m_dot)), '.b', markersize=1)\n",
    "        #ax1.set_ylim((-1.2*np.max(sP), 1.2*np.max(sP)))\n",
    "        #ax1.set_title(\"Phase Modulation\")\n",
    "        \n",
    "        #ax2.plot(t, sF, '-k')\n",
    "        #ax2.plot(t[0:len(m)], m*(np.max(sF)/np.max(m)), '.b', markersize=1)\n",
    "        #ax2.set_ylim((-1.2*np.max(sF), 1.2*np.max(sF)))\n",
    "        #ax2.set_title(\"Frequency Modulation\")\n",
    "        \n",
    "        ax1.plot(t, sP, '-k')\n",
    "        ax1.plot(t[0:len(m)], m*(np.max(sF)/np.max(m)), '.b', markersize=1)\n",
    "        ax1.plot(t[0:len(m_dot)], m_dot*(np.max(sP)/np.max(m_dot)), '.r', markersize=1)\n",
    "        ax1.set_ylim((-1.2*np.max(sP), 1.2*np.max(sP)))\n",
    "        ax1.set_title(\"Phase Modulation\")\n",
    "        \n",
    "        ax2.plot(t, sF, '-k')\n",
    "        ax2.plot(t[0:len(m)], m*(np.max(sF)/np.max(m)), '.b', markersize=1)\n",
    "        ax2.plot(t[0:len(m_dot)], m_dot*(np.max(sF)/np.max(m_dot)), '.r', markersize=1)\n",
    "        ax2.set_ylim((-1.2*np.max(sF), 1.2*np.max(sF)))\n",
    "        ax2.set_title(\"Frequency Modulation\")\n",
    "    \n",
    "interact(\n",
    "    plot_example_extra,\n",
    "    kP = widgets.FloatSlider(min=0,max=8*np.pi, step=np.pi/3, value=0),\n",
    "    kF = widgets.FloatSlider(min=0,max=8e-4*np.pi, step=1e-5*np.pi, value=0));"
   ]
  },
  {
   "cell_type": "code",
   "execution_count": null,
   "metadata": {},
   "outputs": [],
   "source": []
  }
 ],
 "metadata": {
  "anaconda-cloud": {},
  "kernelspec": {
   "display_name": "Python 3 (ipykernel)",
   "language": "python",
   "name": "python3"
  },
  "language_info": {
   "codemirror_mode": {
    "name": "ipython",
    "version": 3
   },
   "file_extension": ".py",
   "mimetype": "text/x-python",
   "name": "python",
   "nbconvert_exporter": "python",
   "pygments_lexer": "ipython3",
   "version": "3.9.16"
  },
  "widgets": {
   "state": {
    "08fdfc3269a64d28a202ad4dc6aa3b3c": {
     "views": [
      {
       "cell_index": 20
      }
     ]
    },
    "90d381a27def4c48a7029302ea0d7f7c": {
     "views": [
      {
       "cell_index": 17
      }
     ]
    },
    "a44274f5167f43d48800fa25f8df9e1b": {
     "views": [
      {
       "cell_index": 19
      }
     ]
    }
   },
   "version": "1.2.0"
  }
 },
 "nbformat": 4,
 "nbformat_minor": 4
}
